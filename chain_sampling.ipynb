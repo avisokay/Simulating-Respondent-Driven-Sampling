{
 "cells": [
  {
   "cell_type": "code",
   "execution_count": 1,
   "metadata": {},
   "outputs": [],
   "source": [
    "#https://networkx.github.io/documentation/networkx-1.9/_modules/networkx/generators/random_graphs.html"
   ]
  },
  {
   "cell_type": "code",
   "execution_count": 2,
   "metadata": {},
   "outputs": [],
   "source": [
    "import itertools\n",
    "import random\n",
    "import math\n",
    "import networkx as nx\n",
    "import statistics\n",
    "import numpy as np\n",
    "import pandas as pd\n",
    "import matplotlib.pyplot as plt\n",
    "from networkx.generators.classic import empty_graph, path_graph, complete_graph\n",
    "\n",
    "from collections import defaultdict\n",
    "\n",
    "__all__ = ['fast_gnp_random_graph']\n",
    "\n",
    "%matplotlib inline"
   ]
  },
  {
   "cell_type": "code",
   "execution_count": 3,
   "metadata": {},
   "outputs": [],
   "source": [
    "def fast_gnp_random_graph(n, p, seed=None, directed=False):\n",
    "    \"\"\"Return a multi directed graph G_{n,p} (Erdős-Rényi graph, binomial graph).\n",
    "\n",
    "    Parameters\n",
    "    ----------\n",
    "    n : int\n",
    "        The number of nodes.\n",
    "    p : float\n",
    "        Probability for edge creation.\n",
    "    seed : int, optional\n",
    "        Seed for random number generator (default=None).\n",
    "    directed : bool, optional (default=False)\n",
    "        If True return a directed graph\n",
    "\n",
    "    Notes\n",
    "    -----\n",
    "    The G_{n,p} graph algorithm chooses each of the [n(n-1)]/2\n",
    "    (undirected) or n(n-1) (directed) possible edges with probability p.\n",
    "\n",
    "    This algorithm is O(n+m) where m is the expected number of\n",
    "    edges m=p*n*(n-1)/2.\n",
    "\n",
    "    It should be faster than gnp_random_graph when p is small and\n",
    "    the expected number of edges is small (sparse graph).\n",
    "\n",
    "    See Also\n",
    "    --------\n",
    "    gnp_random_graph\n",
    "\n",
    "    References\n",
    "    ----------\n",
    "    .. [1] Vladimir Batagelj and Ulrik Brandes,\n",
    "       \"Efficient generation of large random networks\",\n",
    "       Phys. Rev. E, 71, 036113, 2005.\n",
    "    \"\"\"\n",
    "    G = empty_graph(n)\n",
    "    G.name=\"fast_gnp_random_graph(%s,%s)\"%(n,p)\n",
    "\n",
    "    if not seed is None:\n",
    "        random.seed(seed)\n",
    "\n",
    "    if p <= 0 or p >= 1:\n",
    "        return nx.gnp_random_graph(n,p,directed=directed)\n",
    "\n",
    "    w = -1\n",
    "    lp = math.log(1.0 - p)\n",
    "\n",
    "    if directed:\n",
    "        G = nx.MultiDiGraph(G)\n",
    "        # Nodes in graph are from 0,n-1 (start with v as the first node index).\n",
    "        v = 0\n",
    "        while v < n:\n",
    "            lr = math.log(1.0 - random.random())\n",
    "            w = w + 1 + int(lr/lp)\n",
    "            if v == w: # avoid self loops\n",
    "                w = w + 1\n",
    "            while  w >= n and v < n:\n",
    "                w = w - n\n",
    "                v = v + 1\n",
    "                if v == w: # avoid self loops\n",
    "                    w = w + 1\n",
    "            if v < n:\n",
    "                G.add_edge(v, w)\n",
    "    else:\n",
    "        # Nodes in graph are from 0,n-1 (start with v as the second node index).\n",
    "        v = 1\n",
    "        while v < n:\n",
    "            lr = math.log(1.0 - random.random())\n",
    "            w = w + 1 + int(lr/lp)\n",
    "            while w >= v and v < n:\n",
    "                w = w - v\n",
    "                v = v + 1\n",
    "            if v < n:\n",
    "                G.add_edge(v, w)\n",
    "    return G"
   ]
  },
  {
   "cell_type": "markdown",
   "metadata": {},
   "source": [
    "# Define population with subset of nodes with trait A attribute"
   ]
  },
  {
   "cell_type": "code",
   "execution_count": 4,
   "metadata": {},
   "outputs": [],
   "source": [
    "#create undirected network with 1000 nodes, 0.5% probability edge creation\n",
    "G = fast_gnp_random_graph(1000, 0.005, 1, directed = False)"
   ]
  },
  {
   "cell_type": "code",
   "execution_count": 5,
   "metadata": {},
   "outputs": [
    {
     "data": {
      "text/plain": [
       "4.968"
      ]
     },
     "execution_count": 5,
     "metadata": {},
     "output_type": "execute_result"
    }
   ],
   "source": [
    "#check how connected the nodes are, on average\n",
    "connections = []\n",
    "for i in range(1000):\n",
    "    connections.append(G.degree[i])\n",
    "statistics.mean(connections)"
   ]
  },
  {
   "cell_type": "code",
   "execution_count": 6,
   "metadata": {},
   "outputs": [],
   "source": [
    "#create list of dictionaries with value_A key/values (30% with trait_A)\n",
    "trait_A = []\n",
    "for i in range(int(0.3*len(G))):\n",
    "    trait_A.append({'trait_A':1})\n",
    "for i in range(int(0.7*len(G))):\n",
    "    trait_A.append({'trait_A':0})\n",
    "\n",
    "random.shuffle(trait_A)\n",
    "\n",
    "#dict of dicts for iterating\n",
    "A_dict = {}\n",
    "for i in trait_A:\n",
    "    for key,value in enumerate(trait_A):\n",
    "        A_dict[key] = value\n",
    "        \n",
    "#create list of dictionaries with value_A key/values (80% with trait_B)\n",
    "trait_B = []\n",
    "for i in range(int(0.8*len(G))):\n",
    "    trait_B.append({'trait_B':1})\n",
    "for i in range(int(0.2*len(G))):\n",
    "    trait_B.append({'trait_B':0})\n",
    "\n",
    "random.shuffle(trait_B)\n",
    "\n",
    "#dict of dicts for iterating\n",
    "B_dict = {}\n",
    "for i in trait_B:\n",
    "    for key,value in enumerate(trait_B):\n",
    "        B_dict[key] = value\n",
    "        \n",
    "#create list of dictionaries with value_A key/values (60% with trait_C)\n",
    "trait_C = []\n",
    "for i in range(int(0.6*len(G))):\n",
    "    trait_C.append({'trait_C':1})\n",
    "for i in range(int(0.4*len(G))):\n",
    "    trait_C.append({'trait_C':0})\n",
    "\n",
    "random.shuffle(trait_C)\n",
    "\n",
    "#dict of dicts for iterating\n",
    "C_dict = {}\n",
    "for i in trait_C:\n",
    "    for key,value in enumerate(trait_C):\n",
    "        C_dict[key] = value\n",
    "        \n",
    "#assign attributes to each node in network G\n",
    "nx.set_node_attributes(G, A_dict)\n",
    "nx.set_node_attributes(G, B_dict)\n",
    "nx.set_node_attributes(G, C_dict)"
   ]
  },
  {
   "cell_type": "code",
   "execution_count": 7,
   "metadata": {
    "scrolled": false
   },
   "outputs": [
    {
     "name": "stderr",
     "output_type": "stream",
     "text": [
      "C:\\Users\\Adam\\Anaconda3\\lib\\site-packages\\networkx\\drawing\\nx_pylab.py:579: MatplotlibDeprecationWarning: \n",
      "The iterable function was deprecated in Matplotlib 3.1 and will be removed in 3.3. Use np.iterable instead.\n",
      "  if not cb.iterable(width):\n"
     ]
    },
    {
     "data": {
      "image/png": "[encoded data removed]",
      "text/plain": [
       "<Figure size 864x864 with 1 Axes>"
      ]
     },
     "metadata": {},
     "output_type": "display_data"
    }
   ],
   "source": [
    "#visualize network\n",
    "plt.figure(3,figsize=(12,12)) \n",
    "nx.draw_spring(G,node_size=25)"
   ]
  },
  {
   "cell_type": "markdown",
   "metadata": {},
   "source": [
    "# Create seed sample from population that is not representative w.r.t Traits"
   ]
  },
  {
   "cell_type": "code",
   "execution_count": 8,
   "metadata": {},
   "outputs": [],
   "source": [
    "#Subgraph from G of only nodes with trait A and without trait A\n",
    "nodes_with_A = [key for key, value in nx.get_node_attributes(G, 'trait_A').items() if value == 1]\n",
    "nodes_no_A = [key for key, value in nx.get_node_attributes(G, 'trait_A').items() if value == 0]\n",
    "G_with_A = G.subgraph(nodes_with_A)\n",
    "G_no_A = G.subgraph(nodes_no_A)"
   ]
  },
  {
   "cell_type": "code",
   "execution_count": 9,
   "metadata": {},
   "outputs": [],
   "source": [
    "#function that creates a subgraph object as a sample from G with trait A of sample size 'size'\n",
    "def nx_sample_with_A(graph, size):\n",
    "    '''Return subgraph sample from G_with_A.\n",
    "       graph = nx graph of population\n",
    "       size = int size of sample'''\n",
    "    sampled_nodes = random.sample(G_with_A.nodes, size)\n",
    "    sampled_graph = G.subgraph(sampled_nodes)\n",
    "    return sampled_graph\n",
    "\n",
    "#function that creates a subgraph object as a sample from G without trait A of sample size 'size'\n",
    "def nx_sample_no_A(graph, size):\n",
    "    '''Return subgraph sample from G_no_A.\n",
    "       graph = nx graph of population\n",
    "       size = int size of sample'''\n",
    "    sampled_nodes = random.sample(G_no_A.nodes, size)\n",
    "    sampled_graph = G.subgraph(sampled_nodes)\n",
    "    return sampled_graph"
   ]
  },
  {
   "cell_type": "code",
   "execution_count": 10,
   "metadata": {},
   "outputs": [],
   "source": [
    "#draw sample of size 95 from G_with_A and size 5 from G_no_A (5% with A versus 30% in the population)\n",
    "sample_with_A = nx_sample_with_A(G, 95)\n",
    "sample_no_A = nx_sample_no_A(G, 5)\n",
    "seed_sample = nx.compose(sample_with_A, sample_no_A)"
   ]
  },
  {
   "cell_type": "markdown",
   "metadata": {},
   "source": [
    "# Collect information about each node in sample:\n",
    "## 1. Total number of contacts for each node"
   ]
  },
  {
   "cell_type": "code",
   "execution_count": 11,
   "metadata": {},
   "outputs": [],
   "source": [
    "#function that collects the degree for each node in the network (number of contacts)\n",
    "def num_contacts(graph):\n",
    "    '''Return dictionary of node id and corresponding degree'''\n",
    "    contacts = [val for (node, val) in graph.degree]\n",
    "    merge_dict = dict(zip(list(graph.nodes), contacts))\n",
    "    return merge_dict"
   ]
  },
  {
   "cell_type": "code",
   "execution_count": 12,
   "metadata": {
    "scrolled": true
   },
   "outputs": [],
   "source": [
    "#for each node in the sample, create a dict with node id and node degree in the primary network\n",
    "sample_contacts = {key:value for key, value in num_contacts(G).items() if key in list(seed_sample.nodes())}"
   ]
  },
  {
   "cell_type": "code",
   "execution_count": 13,
   "metadata": {},
   "outputs": [
    {
     "data": {
      "text/plain": [
       "Text(0, 0.5, 'Count')"
      ]
     },
     "execution_count": 13,
     "metadata": {},
     "output_type": "execute_result"
    },
    {
     "data": {
      "image/png": "[encoded data removed]",
      "text/plain": [
       "<Figure size 432x288 with 1 Axes>"
      ]
     },
     "metadata": {
      "needs_background": "light"
     },
     "output_type": "display_data"
    }
   ],
   "source": [
    "#graph the distribution of contacts for each node in the sample\n",
    "import collections\n",
    "counter=collections.Counter(list(sample_contacts.values()))\n",
    "plt.bar(counter.keys(), counter.values(), color='g')\n",
    "plt.xlabel('Number of Contacts')\n",
    "plt.ylabel('Count')"
   ]
  },
  {
   "cell_type": "markdown",
   "metadata": {},
   "source": [
    "## 2. For each node in the sample, a list of contacts in G"
   ]
  },
  {
   "cell_type": "code",
   "execution_count": 14,
   "metadata": {},
   "outputs": [],
   "source": [
    "#function that determines if given node has trait_A attribute == 1\n",
    "def has_A(graph, node):\n",
    "    '''Return True if node has trait_A'''\n",
    "    if nx.get_node_attributes(graph, 'trait_A')[node] == 1:\n",
    "        return True\n",
    "    else:\n",
    "        return False"
   ]
  },
  {
   "cell_type": "code",
   "execution_count": 15,
   "metadata": {},
   "outputs": [],
   "source": [
    "#dict of each node in seed_sample and that node's list of contacts in G\n",
    "contacts_list_of_list = []\n",
    "for i in list(seed_sample.nodes()):\n",
    "    contacts_list_of_list.append((list(G.neighbors(i))))\n",
    "contacts_dict = dict(zip(list(seed_sample.nodes()), contacts_list_of_list))\n",
    "\n",
    "#show top 10 results. node, list of contacts\n",
    "#[print(v) for i, v in enumerate(contacts_dict.items()) if i < 10]"
   ]
  },
  {
   "cell_type": "markdown",
   "metadata": {},
   "source": [
    "## 3. List of each node's total contacts"
   ]
  },
  {
   "cell_type": "code",
   "execution_count": 16,
   "metadata": {},
   "outputs": [],
   "source": [
    "#list of seed_sample's unique contacts with trait_A\n",
    "contacts_list = [[ele for ele in sub if has_A(G,ele) == True] for sub in contacts_list_of_list]\n",
    "contacts_list = set(x for l in contacts_list for x in l)\n",
    "contacts_list = list(contacts_list)"
   ]
  },
  {
   "cell_type": "markdown",
   "metadata": {},
   "source": [
    "# Chain Sampling"
   ]
  },
  {
   "cell_type": "markdown",
   "metadata": {},
   "source": [
    "## 1. Choose a random sample from the seed sample\n",
    "    a) And for the new sample, record the percentage with traits A B and C"
   ]
  },
  {
   "cell_type": "code",
   "execution_count": 17,
   "metadata": {},
   "outputs": [],
   "source": [
    "def chain_sample(seed, waves, sample = 0, checker = 1, results = None):\n",
    "    ''' seed is the starting sample\n",
    "        waves is an int for the number of waves for iterating\n",
    "        This function runs chain sampling and updates table with results for each wave'''\n",
    "    \n",
    "    if checker > waves:\n",
    "        return\n",
    "    elif sample == 0:\n",
    "        #initialize results table from seed sample\n",
    "        sampling_results = [[0,\n",
    "                             list(nx.get_node_attributes(seed_sample, 'trait_A').values()).count(1)/\n",
    "                             len(list(nx.get_node_attributes(seed_sample, 'trait_A').values())),\n",
    "                             list(nx.get_node_attributes(seed_sample, 'trait_B').values()).count(1)/\n",
    "                             len(list(nx.get_node_attributes(seed_sample, 'trait_B').values())),\n",
    "                             list(nx.get_node_attributes(seed_sample, 'trait_C').values()).count(1)/\n",
    "                             len(list(nx.get_node_attributes(seed_sample, 'trait_C').values()))]]\n",
    "        \n",
    "        results = pd.DataFrame(sampling_results, columns=['sampling_wave', 'trait_A', 'trait_B', 'trait_C'])\n",
    "        \n",
    "        current_sample = G.subgraph(random.sample(list(seed.nodes()), k=random.choice(range(40,60))))\n",
    "        \n",
    "        #update results table\n",
    "        results.loc[len(results)] = [checker,\n",
    "                                     list(nx.get_node_attributes(current_sample, 'trait_A').values()).count(1)/len(list(nx.get_node_attributes(current_sample, 'trait_A').values())),\n",
    "                                     list(nx.get_node_attributes(current_sample, 'trait_B').values()).count(1)/len(list(nx.get_node_attributes(current_sample, 'trait_B').values())),\n",
    "                                     list(nx.get_node_attributes(current_sample, 'trait_C').values()).count(1)/len(list(nx.get_node_attributes(current_sample, 'trait_C').values()))]\n",
    "        \n",
    "        #recursively run sample\n",
    "        chain_sample(seed, waves, current_sample, sum([1, checker]), results)\n",
    "        return results\n",
    "    else:\n",
    "        #dictionary with key/value as node/list of contacts in G\n",
    "        contacts_list_of_list = []\n",
    "        for i in list(sample.nodes()):\n",
    "            contacts_list_of_list.append((list(G.neighbors(i))))\n",
    "        contacts_dict = dict(zip(list(sample.nodes()), contacts_list_of_list))\n",
    "\n",
    "        #for each node in new sample, refer contacts based on contacts degree and then compile a total list\n",
    "        output = []\n",
    "        for i in list(contacts_dict.keys()):\n",
    "            if contacts_dict[i] != []:\n",
    "                output.append(random.sample(contacts_dict[i], k=random.choice(range(len(contacts_dict[i])))))\n",
    "        output = sorted(list(x for l in output for x in l))\n",
    "        current_sample = nx.subgraph(G, output)\n",
    "        \n",
    "        #update results table\n",
    "        results.loc[len(results)] = [checker, \n",
    "                                     list(nx.get_node_attributes(current_sample, 'trait_A').values()).count(1)/len(list(nx.get_node_attributes(current_sample, 'trait_A').values())),\n",
    "                                     list(nx.get_node_attributes(current_sample, 'trait_B').values()).count(1)/len(list(nx.get_node_attributes(current_sample, 'trait_B').values())),\n",
    "                                     list(nx.get_node_attributes(current_sample, 'trait_C').values()).count(1)/len(list(nx.get_node_attributes(current_sample, 'trait_C').values()))]\n",
    "        \n",
    "        #recursively run sample\n",
    "        chain_sample(seed, waves, current_sample, sum([1, checker]), results)"
   ]
  },
  {
   "cell_type": "code",
   "execution_count": 18,
   "metadata": {},
   "outputs": [],
   "source": [
    "df = chain_sample(seed_sample, 10)"
   ]
  },
  {
   "cell_type": "code",
   "execution_count": 19,
   "metadata": {},
   "outputs": [
    {
     "name": "stdout",
     "output_type": "stream",
     "text": [
      "[0.3, 0.8, 0.6]\n",
      "[0.95, 0.83, 0.62]\n"
     ]
    }
   ],
   "source": [
    "#get seed_sample proportions for traits A B and C\n",
    "a_proportion = list(nx.get_node_attributes(seed_sample, 'trait_A').values()).count(1)/len(list(nx.get_node_attributes(seed_sample, 'trait_A').values()))\n",
    "b_proportion = list(nx.get_node_attributes(seed_sample, 'trait_B').values()).count(1)/len(list(nx.get_node_attributes(seed_sample, 'trait_B').values()))\n",
    "c_proportion = list(nx.get_node_attributes(seed_sample, 'trait_C').values()).count(1)/len(list(nx.get_node_attributes(seed_sample, 'trait_C').values()))\n",
    "print([0.30, 0.80, 0.60])\n",
    "print([a_proportion, b_proportion, c_proportion])"
   ]
  },
  {
   "cell_type": "code",
   "execution_count": 20,
   "metadata": {
    "scrolled": false
   },
   "outputs": [
    {
     "data": {
      "image/png": "[encoded data removed]",
      "text/plain": [
       "<Figure size 864x576 with 1 Axes>"
      ]
     },
     "metadata": {
      "needs_background": "light"
     },
     "output_type": "display_data"
    }
   ],
   "source": [
    "fig = df.plot(x='sampling_wave', figsize=(12,8), yticks=np.arange(0,1.1,0.1), lw=4)\n",
    "fig = plt.axhline(y=0.3, color='black', linestyle='-')\n",
    "fig = plt.axhline(y=0.8, color='black', linestyle='-')\n",
    "fig = plt.axhline(y=0.6, color='black', linestyle='-')"
   ]
  },
  {
   "cell_type": "code",
   "execution_count": 22,
   "metadata": {},
   "outputs": [],
   "source": [
    "A = nx.to_numpy_matrix(G)"
   ]
  },
  {
   "cell_type": "code",
   "execution_count": 23,
   "metadata": {},
   "outputs": [
    {
     "data": {
      "text/plain": [
       "matrix([[0., 0., 0., ..., 0., 0., 0.],\n",
       "        [0., 0., 0., ..., 0., 0., 0.],\n",
       "        [0., 0., 0., ..., 0., 0., 0.],\n",
       "        ...,\n",
       "        [0., 0., 0., ..., 0., 0., 0.],\n",
       "        [0., 0., 0., ..., 0., 0., 0.],\n",
       "        [0., 0., 0., ..., 0., 0., 0.]])"
      ]
     },
     "execution_count": 23,
     "metadata": {},
     "output_type": "execute_result"
    }
   ],
   "source": [
    "A"
   ]
  },
  {
   "cell_type": "code",
   "execution_count": null,
   "metadata": {},
   "outputs": [],
   "source": []
  },
  {
   "cell_type": "code",
   "execution_count": null,
   "metadata": {},
   "outputs": [],
   "source": []
  }
 ],
 "metadata": {
  "kernelspec": {
   "display_name": "Python 3",
   "language": "python",
   "name": "python3"
  },
  "language_info": {
   "codemirror_mode": {
    "name": "ipython",
    "version": 3
   },
   "file_extension": ".py",
   "mimetype": "text/x-python",
   "name": "python",
   "nbconvert_exporter": "python",
   "pygments_lexer": "ipython3",
   "version": "3.6.8"
  }
 },
 "nbformat": 4,
 "nbformat_minor": 2
}
