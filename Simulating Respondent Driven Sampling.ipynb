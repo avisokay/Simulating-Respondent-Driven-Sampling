{
 "cells": [
  {
   "cell_type": "markdown",
   "metadata": {},
   "source": [
    "# Simulating Respondent Driven Sampling"
   ]
  },
  {
   "cell_type": "code",
   "execution_count": 1,
   "metadata": {},
   "outputs": [],
   "source": [
    "#https://networkx.github.io/documentation/networkx-1.9/_modules/networkx/generators/random_graphs.html"
   ]
  },
  {
   "cell_type": "code",
   "execution_count": 2,
   "metadata": {},
   "outputs": [],
   "source": [
    "import itertools\n",
    "import random\n",
    "import math\n",
    "import networkx as nx\n",
    "import statistics\n",
    "import numpy as np\n",
    "import pandas as pd\n",
    "import collections\n",
    "import matplotlib.pyplot as plt\n",
    "from networkx.generators.classic import empty_graph, path_graph, complete_graph\n",
    "\n",
    "from collections import defaultdict\n",
    "\n",
    "__all__ = ['fast_gnp_random_graph']\n",
    "\n",
    "%matplotlib inline"
   ]
  },
  {
   "cell_type": "markdown",
   "metadata": {},
   "source": [
    "### Create an undirected network with 10,000 nodes; 0.2% probability of edge creation. "
   ]
  },
  {
   "cell_type": "code",
   "execution_count": 3,
   "metadata": {},
   "outputs": [],
   "source": [
    "def fast_gnp_random_graph(n, p, seed=None, directed=False):\n",
    "    \"\"\"Return a multi directed graph G_{n,p} (Erdős-Rényi graph, binomial graph).\n",
    "\n",
    "    Parameters\n",
    "    ----------\n",
    "    n : int\n",
    "        The number of nodes.\n",
    "    p : float\n",
    "        Probability for edge creation.\n",
    "    seed : int, optional\n",
    "        Seed for random number generator (default=None).\n",
    "    directed : bool, optional (default=False)\n",
    "        If True return a directed graph\n",
    "\n",
    "    Notes\n",
    "    -----\n",
    "    The G_{n,p} graph algorithm chooses each of the [n(n-1)]/2\n",
    "    (undirected) or n(n-1) (directed) possible edges with probability p.\n",
    "\n",
    "    This algorithm is O(n+m) where m is the expected number of\n",
    "    edges m=p*n*(n-1)/2.\n",
    "\n",
    "    It should be faster than gnp_random_graph when p is small and\n",
    "    the expected number of edges is small (sparse graph).\n",
    "\n",
    "    See Also\n",
    "    --------\n",
    "    gnp_random_graph\n",
    "\n",
    "    References\n",
    "    ----------\n",
    "    .. [1] Vladimir Batagelj and Ulrik Brandes,\n",
    "       \"Efficient generation of large random networks\",\n",
    "       Phys. Rev. E, 71, 036113, 2005.\n",
    "    \"\"\"\n",
    "    G = empty_graph(n)\n",
    "    G.name=\"fast_gnp_random_graph(%s,%s)\"%(n,p)\n",
    "\n",
    "    if not seed is None:\n",
    "        random.seed(seed)\n",
    "\n",
    "    if p <= 0 or p >= 1:\n",
    "        return nx.gnp_random_graph(n,p,directed=directed)\n",
    "\n",
    "    w = -1\n",
    "    lp = math.log(1.0 - p)\n",
    "\n",
    "    if directed:\n",
    "        G = nx.MultiDiGraph(G)\n",
    "        # Nodes in graph are from 0,n-1 (start with v as the first node index).\n",
    "        v = 0\n",
    "        while v < n:\n",
    "            lr = math.log(1.0 - random.random())\n",
    "            w = w + 1 + int(lr/lp)\n",
    "            if v == w: # avoid self loops\n",
    "                w = w + 1\n",
    "            while  w >= n and v < n:\n",
    "                w = w - n\n",
    "                v = v + 1\n",
    "                if v == w: # avoid self loops\n",
    "                    w = w + 1\n",
    "            if v < n:\n",
    "                G.add_edge(v, w)\n",
    "    else:\n",
    "        # Nodes in graph are from 0,n-1 (start with v as the second node index).\n",
    "        v = 1\n",
    "        while v < n:\n",
    "            lr = math.log(1.0 - random.random())\n",
    "            w = w + 1 + int(lr/lp)\n",
    "            while w >= v and v < n:\n",
    "                w = w - v\n",
    "                v = v + 1\n",
    "            if v < n:\n",
    "                G.add_edge(v, w)\n",
    "    return G\n",
    "\n",
    "G = fast_gnp_random_graph(10000, 0.002, 1, directed = False)"
   ]
  },
  {
   "cell_type": "markdown",
   "metadata": {},
   "source": [
    "### Double check the average node degree is roughly 20 for the network."
   ]
  },
  {
   "cell_type": "code",
   "execution_count": 4,
   "metadata": {},
   "outputs": [
    {
     "data": {
      "text/plain": [
       "19.9254"
      ]
     },
     "execution_count": 4,
     "metadata": {},
     "output_type": "execute_result"
    }
   ],
   "source": [
    "statistics.mean(dict(G.degree()).values())"
   ]
  },
  {
   "cell_type": "markdown",
   "metadata": {},
   "source": [
    "### Randomly assign a trait to all of the nodes in the network. "
   ]
  },
  {
   "cell_type": "code",
   "execution_count": 28,
   "metadata": {},
   "outputs": [],
   "source": [
    "def assign_trait(graph, proportion):\n",
    "    '''Graph = networkx graph\n",
    "       Proportion = float between 0.0 and 1.0 for the proportion with a given trait'''\n",
    "    \n",
    "    # list of length of nodes in Graph with key/value pairs for having trait or not at specified proportion\n",
    "    trait_list = [{'trait':1} for i in range(int(proportion*len(graph)))]\n",
    "    trait_list += [{'trait':0} for i in range(int(len(graph) - proportion*len(graph)))]\n",
    "    random.shuffle(trait_list)\n",
    "\n",
    "    nx.set_node_attributes(graph, dict(enumerate(trait_list)))\n",
    "    \n",
    "assign_trait(graph = G, proportion = 0.65)"
   ]
  },
  {
   "cell_type": "markdown",
   "metadata": {},
   "source": [
    "### Create a seed sample from the population with a specified proportion of nodes with a given trait"
   ]
  },
  {
   "cell_type": "code",
   "execution_count": 29,
   "metadata": {},
   "outputs": [],
   "source": [
    "def sample_from_graph(graph, proportion, trait, size):\n",
    "    '''Graph is the networkx graph you are sampling from, Proportion is a float between 0.0 and 1.0 for the intended\n",
    "    proportion of the trait in the sample, Trait is a String and is the trait you are interested in, Size is an int for the \n",
    "    amount of nodes in sample.'''\n",
    "    \n",
    "    # Separate subgraphs; with and without trait\n",
    "    subgraph_with_trait = graph.subgraph([key for key, value in nx.get_node_attributes(graph, trait).items() if value == 1])\n",
    "    subgraph_no_trait = graph.subgraph([key for key, value in nx.get_node_attributes(graph, trait).items() if value == 0])\n",
    "\n",
    "    # Sample from subgraphs @ given proportion\n",
    "    sample_with_trait = graph.subgraph(random.sample(subgraph_with_trait.nodes, int(proportion*size)))\n",
    "    sample_no_trait = graph.subgraph(random.sample(subgraph_no_trait.nodes, (size-int(proportion*size))))\n",
    "\n",
    "    return nx.compose(sample_with_trait, sample_no_trait)\n",
    "\n",
    "seed_sample = sample_from_graph(G, 0.65, 'trait', 150)"
   ]
  },
  {
   "cell_type": "markdown",
   "metadata": {},
   "source": [
    "# Case 1: All men and women refer within gender 80% of the time."
   ]
  },
  {
   "cell_type": "markdown",
   "metadata": {},
   "source": [
    "This chain sampling algorithm does the following:\n",
    "1. For each node in the seed sample:\n",
    "    \n",
    "    a. Check gender. \n",
    "        1. Continue to referral step depending on gender (65% and 47% probability M/F respectively will proceed). \n",
    "    b. Given this node is going to refer, for each of their contacts in G, check gender.\n",
    "        1. For each node/nodes contact pair, if they are the same gender: 80% chance they will be referred, 20% chance they will not be referred. \n",
    "\n",
    "2. For each wave of sampling, record the proportion of females in the current sample. \n",
    "        \n",
    "Notes: each node will refer a different number of contacts based on \n",
    "1. Their number of contacts in G\n",
    "2. Their gender\n",
    "\n",
    "i.e. more connected men will refer more contacts, on average, than less connected women given the probabilities from pilot2."
   ]
  },
  {
   "cell_type": "markdown",
   "metadata": {},
   "source": [
    "### Functions needed to perform the chain sampling"
   ]
  },
  {
   "cell_type": "code",
   "execution_count": 45,
   "metadata": {},
   "outputs": [],
   "source": [
    "def trait_proportion(graph):\n",
    "    '''graph is the networkx graph, trait is a string for the trait of interest\n",
    "       returns the percentage of nodes in the graph with specified trait (0-100).'''\n",
    "    return list(nx.get_node_attributes(graph, 'trait').values()).count(1) \\\n",
    "             / len(list(nx.get_node_attributes(seed_sample, 'trait').values()))*100"
   ]
  },
  {
   "cell_type": "code",
   "execution_count": 52,
   "metadata": {},
   "outputs": [],
   "source": [
    "results_df = pd.DataFrame([[0,trait_proportion(seed_sample)]], columns=['sampling_wave', 'percent_female'])"
   ]
  },
  {
   "cell_type": "code",
   "execution_count": 30,
   "metadata": {},
   "outputs": [],
   "source": [
    "def chain_sample(seed, waves, current_sample= 0, checker = 1, results_df = None):\n",
    "    ''' seed is the starting sample\n",
    "        waves is number of waves for iterating\n",
    "        This function runs chain sampling and updates table with results for each wave'''\n",
    "\n",
    "    if checker > waves:\n",
    "        return\n",
    "    \n",
    "    elif current_sample == 0:\n",
    "        \n",
    "        #initialize a dataframe to record results\n",
    "        results_df = pd.DataFrame([[0,trait_proportion(seed)]], columns=['sampling_wave', 'percent_female'])\n",
    "        \n",
    "        current_sample = G.subgraph(random.sample(list(seed.nodes()), k=random.choice(range(int(len(seed_sample.nodes())/4), int(3*len(seed_sample.nodes())/4)))))\n",
    "        \n",
    "        #update results table\n",
    "        results_df.loc[len(results)] = [checker,\n",
    "                                     list(nx.get_node_attributes(current_sample, 'trait').values()).count(1)/len(list(nx.get_node_attributes(current_sample, 'trait').values()))*100]\n",
    "        \n",
    "        #recursively run sample\n",
    "        chain_sample(seed, waves, current_sample, sum([1, checker]), results)\n",
    "        return results_df\n",
    "    else:\n",
    "        #dictionary with key/value as node/list of contacts in G\n",
    "        contacts_list_of_list = []\n",
    "        for i in list(sample.nodes()):\n",
    "            contacts_list_of_list.append((list(G.neighbors(i))))\n",
    "        contacts_dict = dict(zip(list(sample.nodes()), contacts_list_of_list))\n",
    "\n",
    "        #for each node in new sample, 47% chance for women and 65% chance for men to refer contacts @ p=0.8 within gender \n",
    "        put=[]\n",
    "        for i in range(len(list(nx.get_node_attributes(seed_sample, 'trait')))):\n",
    "            if list(nx.get_node_attributes(seed_sample, 'trait').values())[i] == 1: # if female then...\n",
    "                if int(np.random.choice([0,1], 1, p = [0.53, 0.47])) == 1: # 47% chance women provide referrals...\n",
    "                    for j in range(len(list(G.neighbors(i)))):\n",
    "                        if nx.get_node_attributes(G, \"trait\")[list(G.neighbors(i))[j]] == 1: #if female 80% chance to add to list\n",
    "                            put.append(list(np.random.choice([None, list(G.neighbors(i))[j]], 1, p=[0.2, 0.8])))\n",
    "                        else: #if male 20% chance to add to list\n",
    "                            put.append(list(np.random.choice([None, list(G.neighbors(i))[j]], 1, p=[0.8, 0.2])))\n",
    "            else: # if male then...\n",
    "                if int(np.random.choice([0,1], 1, p = [0.35, 0.65])) == 1: # 65% chance men provide referrals...\n",
    "                    for j in range(len(list(G.neighbors(i)))): \n",
    "                        if nx.get_node_attributes(G, \"trait\")[list(G.neighbors(i))[j]] == 0: #if male 80% chance to add to list\n",
    "                            put.append(list(np.random.choice([None, list(G.neighbors(i))[j]], 1, p=[0.2, 0.8])))\n",
    "                        else: #if female 20% chance to add to list\n",
    "                            put.append(list(np.random.choice([None, list(G.neighbors(i))[j]], 1, p=[0.8, 0.2])))\n",
    "\n",
    "        # remove reduncancies and None values from list\n",
    "        flat_list = [item for sublist in put for item in sublist]\n",
    "        res = []\n",
    "        for i in flat_list:\n",
    "            if i not in res and i != None:\n",
    "                res.append(i)\n",
    "\n",
    "                \n",
    "        # update current sample with new res list\n",
    "        current_sample = nx.subgraph(G, res)\n",
    "        \n",
    "        \n",
    "        #update results table\n",
    "        results_df.loc[len(results)] = [checker, \n",
    "                                     list(nx.get_node_attributes(current_sample, 'trait').values()).count(1)/len(list(nx.get_node_attributes(current_sample, 'trait').values()))*100]\n",
    "        \n",
    "        #recursively run sample\n",
    "        chain_sample(seed, waves, current_sample, sum([1, checker]), results)"
   ]
  },
  {
   "cell_type": "code",
   "execution_count": 31,
   "metadata": {},
   "outputs": [],
   "source": [
    "data = pd.DataFrame([[0,list(nx.get_node_attributes(seed_sample, 'trait').values()).count(1)/len(list(nx.get_node_attributes(seed_sample, 'trait').values()))*100]], columns=['sampling_wave', 'percent_female'])"
   ]
  },
  {
   "cell_type": "code",
   "execution_count": 32,
   "metadata": {},
   "outputs": [
    {
     "data": {
      "text/html": [
       "<div>\n",
       "<style scoped>\n",
       "    .dataframe tbody tr th:only-of-type {\n",
       "        vertical-align: middle;\n",
       "    }\n",
       "\n",
       "    .dataframe tbody tr th {\n",
       "        vertical-align: top;\n",
       "    }\n",
       "\n",
       "    .dataframe thead th {\n",
       "        text-align: right;\n",
       "    }\n",
       "</style>\n",
       "<table border=\"1\" class=\"dataframe\">\n",
       "  <thead>\n",
       "    <tr style=\"text-align: right;\">\n",
       "      <th></th>\n",
       "      <th>sampling_wave</th>\n",
       "      <th>percent_female</th>\n",
       "    </tr>\n",
       "  </thead>\n",
       "  <tbody>\n",
       "    <tr>\n",
       "      <th>0</th>\n",
       "      <td>0</td>\n",
       "      <td>64.666667</td>\n",
       "    </tr>\n",
       "  </tbody>\n",
       "</table>\n",
       "</div>"
      ],
      "text/plain": [
       "   sampling_wave  percent_female\n",
       "0              0       64.666667"
      ]
     },
     "execution_count": 32,
     "metadata": {},
     "output_type": "execute_result"
    }
   ],
   "source": [
    "data.head()"
   ]
  },
  {
   "cell_type": "code",
   "execution_count": 19,
   "metadata": {},
   "outputs": [],
   "source": [
    "# #for each node in new sample, randomly refer contacts then compile a total list\n",
    "#         output = []\n",
    "#         for i in list(contacts_dict.keys()):\n",
    "#             if contacts_dict[i] != []:\n",
    "#                 output.append(random.sample(contacts_dict[i], k=random.choice(range(len(contacts_dict[i])))))\n",
    "#         output = sorted(list(x for l in output for x in l))\n",
    "#         current_sample = nx.subgraph(G, output)"
   ]
  },
  {
   "cell_type": "code",
   "execution_count": 21,
   "metadata": {
    "scrolled": true
   },
   "outputs": [
    {
     "data": {
      "text/plain": [
       "pandas.core.frame.DataFrame"
      ]
     },
     "execution_count": 21,
     "metadata": {},
     "output_type": "execute_result"
    }
   ],
   "source": [
    "df = chain_sample(seed_sample, 50)"
   ]
  },
  {
   "cell_type": "code",
   "execution_count": 23,
   "metadata": {},
   "outputs": [
    {
     "name": "stdout",
     "output_type": "stream",
     "text": [
      "Population percentage with trait: \n",
      "[0.65]\n",
      "Seed sample percentage with trait: \n",
      "[0.6466666666666666]\n"
     ]
    }
   ],
   "source": [
    "#get seed_sample proportions for trait A\n",
    "a_pop = list(nx.get_node_attributes(G, 'trait').values()).count(1)/len(list(nx.get_node_attributes(G, 'trait').values()))\n",
    "print('Population percentage with trait: ')\n",
    "print([a_pop])\n",
    "pop_list = [a_pop]\n",
    "a_proportion = list(nx.get_node_attributes(seed_sample, 'trait').values()).count(1)/len(list(nx.get_node_attributes(seed_sample, 'trait').values()))\n",
    "print('Seed sample percentage with trait: ')\n",
    "print([a_proportion])"
   ]
  },
  {
   "cell_type": "code",
   "execution_count": 24,
   "metadata": {},
   "outputs": [
    {
     "data": {
      "image/png": "[encoded data removed]",
      "text/plain": [
       "<Figure size 864x576 with 1 Axes>"
      ]
     },
     "metadata": {
      "needs_background": "light"
     },
     "output_type": "display_data"
    }
   ],
   "source": [
    "# visualiz results table\n",
    "fig = df.plot(x='sampling_wave', figsize=(12,8), yticks=np.arange(0,100,10), lw=4, title= 'Case 1: Sample Proportion: {}, Homophily: 0.8'.format(a_proportion))\n",
    "for i in pop_list:\n",
    "    fig = plt.axhline(y=i*100, color='black', linestyle='-', lw=2)"
   ]
  },
  {
   "cell_type": "code",
   "execution_count": null,
   "metadata": {
    "scrolled": false
   },
   "outputs": [],
   "source": [
    "df.describe()"
   ]
  },
  {
   "cell_type": "markdown",
   "metadata": {},
   "source": [
    "### Chain sampling from a seed sample. Referrals assume an 80% trait homophily."
   ]
  },
  {
   "cell_type": "code",
   "execution_count": null,
   "metadata": {},
   "outputs": [],
   "source": []
  },
  {
   "cell_type": "code",
   "execution_count": null,
   "metadata": {},
   "outputs": [],
   "source": []
  },
  {
   "cell_type": "code",
   "execution_count": null,
   "metadata": {},
   "outputs": [],
   "source": []
  },
  {
   "cell_type": "code",
   "execution_count": null,
   "metadata": {},
   "outputs": [],
   "source": [
    "def chain_sample(graph, seed_sample, waves, current_sample = 0, checker = 1, results = None):\n",
    "    ''' graph is the population graph \n",
    "        seed_sample is the starting sample\n",
    "        waves is number of waves for iterating\n",
    "        This function runs chain sampling over the specified number of waves and results in \n",
    "        a dataframe that records the wave number and the sample proportion with the trait for each wave.'''\n",
    "    \n",
    "    \n",
    "    \n",
    "    "
   ]
  },
  {
   "cell_type": "code",
   "execution_count": null,
   "metadata": {},
   "outputs": [],
   "source": []
  },
  {
   "cell_type": "code",
   "execution_count": null,
   "metadata": {},
   "outputs": [],
   "source": []
  }
 ],
 "metadata": {
  "kernelspec": {
   "display_name": "Python 3",
   "language": "python",
   "name": "python3"
  },
  "language_info": {
   "codemirror_mode": {
    "name": "ipython",
    "version": 3
   },
   "file_extension": ".py",
   "mimetype": "text/x-python",
   "name": "python",
   "nbconvert_exporter": "python",
   "pygments_lexer": "ipython3",
   "version": "3.6.8"
  }
 },
 "nbformat": 4,
 "nbformat_minor": 2
}
